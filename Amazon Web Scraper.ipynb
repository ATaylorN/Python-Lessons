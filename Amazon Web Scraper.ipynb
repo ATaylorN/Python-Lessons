{
 "cells": [
  {
   "cell_type": "markdown",
   "id": "59b1b7be",
   "metadata": {},
   "source": [
    "# Amazon Web Scraper"
   ]
  },
  {
   "cell_type": "code",
   "execution_count": 3,
   "id": "40d4032d",
   "metadata": {},
   "outputs": [],
   "source": [
    "from bs4 import BeautifulSoup\n",
    "import requests\n",
    "import smtplib\n",
    "import time\n",
    "import datetime"
   ]
  },
  {
   "cell_type": "code",
   "execution_count": 4,
   "id": "4dacc5e4",
   "metadata": {},
   "outputs": [
    {
     "name": "stdout",
     "output_type": "stream",
     "text": [
      "\n",
      "                    Funny Got Data MIS Data Systems Business Analyst T-Shirt\n",
      "                   \n",
      "\n",
      "                    $16.99\n",
      "                   \n",
      "\n",
      "                       4.3\n",
      "                      out of 5\n",
      "\n",
      "                     19 ratings\n",
      "                    \n",
      "\n",
      "\n",
      "\n",
      "\n",
      "              'Funny Got Data MIS Data Systems Business Analyst' is a funny pickup perfect for people interested in MIS and data systems who works in IT or data consulting! Any business analyst or consultant that works with big data will love it!\n",
      "             \n",
      "\n",
      "\n"
     ]
    }
   ],
   "source": [
    "url = 'https://www.amazon.com/Funny-Data-Systems-Business-Analyst/dp/B07FNW9FGJ/ref=sr_1_2?dib=eyJ2IjoiMSJ9.EkdWY-JPkdMVH0ehyai8WrEeGxUW23jZ4L14AX4t9y_fsbKDHG8hHbt70ELY4WHwvYu0WStxDCownUTObkN3M3keTD-iLAWV6XVF6svAZKl5ce8HHuo6Z4-bhekNDCepT05ZeVb6-yP0IjUY4WHfpO7iClXN36APWfNMF00aFmRxK7IRf_RFUt6NDVe1fLKOZSAEDc1Zuiypn7XvK4J8nSHyI20hBILpIPSaPFNpm0utvfaeZvyZm1WdblEa3ZSGGBGMiWkOML9Zg6FwgPZhDu1vSG9bDE0cqJ2CSCg2Bmg.RMfbhN47f0762lUejMr_cc_s3CzHIaKhQA8-xunD3wY&dib_tag=se&keywords=funny+got+data+mis+data+systems+t-shirt&qid=1713746794&sr=8-2'\n",
    "headers = {\"User-Agent\": \"Mozilla/5.0 (Windows NT 10.0; Win64; x64) AppleWebKit/537.36 (KHTML, like Gecko) Chrome/123.0.0.0 Safari/537.36 Edg/123.0.0.0\", \"Accept-Encoding\":\"gzip, deflate\", \"Accept\":\"text/html,application/xhtml+xml,application/xml;q=0.9,*/*;q=0.8\", \"DNT\":\"1\",\"Connection\":\"close\", \"Upgrade-Insecure-Requests\":\"1\"}\n",
    "page = requests.get(url, headers=headers)\n",
    "\n",
    "soup1 = BeautifulSoup(page.content, \"html.parser\")\n",
    "soup2 = BeautifulSoup(soup1.prettify(), 'html.parser')\n",
    "\n",
    "title = soup2.find(id='productTitle').get_text()\n",
    "price = soup2.find(class_='aok-offscreen').get_text()\n",
    "rating = soup2.find(class_='a-size-base a-color-base').get_text()\n",
    "numberOfRatings = soup2.find(id='acrCustomerReviewText').get_text()\n",
    "description = soup2.find(id=\"productDescription\").get_text()\n",
    "\n",
    "print(title)\n",
    "print(price)\n",
    "print(rating + 'out of 5')\n",
    "print(numberOfRatings)\n",
    "print(description)\n"
   ]
  },
  {
   "cell_type": "code",
   "execution_count": 5,
   "id": "111e561d",
   "metadata": {},
   "outputs": [
    {
     "name": "stdout",
     "output_type": "stream",
     "text": [
      "Funny Got Data MIS Data Systems Business Analyst T-Shirt\n"
     ]
    }
   ],
   "source": [
    "price = price.strip()[1:]\n",
    "title = title.strip()\n",
    "print(title)"
   ]
  },
  {
   "cell_type": "code",
   "execution_count": 6,
   "id": "7d489afa",
   "metadata": {},
   "outputs": [
    {
     "name": "stdout",
     "output_type": "stream",
     "text": [
      "Funny Got Data MIS Data Systems Business Analyst T-Shirt\n",
      "16.99\n",
      "\n",
      "                       4.3\n",
      "                      out of 5\n",
      "\n",
      "                     19 ratings\n",
      "                    \n"
     ]
    }
   ],
   "source": [
    "print(title)\n",
    "print(price)\n",
    "print(rating + 'out of 5')\n",
    "print(numberOfRatings)"
   ]
  },
  {
   "cell_type": "code",
   "execution_count": 7,
   "id": "25ae92ae",
   "metadata": {},
   "outputs": [],
   "source": [
    "rating = rating.strip()"
   ]
  },
  {
   "cell_type": "code",
   "execution_count": 8,
   "id": "006d586c",
   "metadata": {},
   "outputs": [],
   "source": [
    "numberOfRatings = numberOfRatings.strip()"
   ]
  },
  {
   "cell_type": "code",
   "execution_count": 9,
   "id": "7d8ab259",
   "metadata": {},
   "outputs": [],
   "source": [
    "description = description.strip()"
   ]
  },
  {
   "cell_type": "code",
   "execution_count": 10,
   "id": "c1db7a08",
   "metadata": {},
   "outputs": [
    {
     "name": "stdout",
     "output_type": "stream",
     "text": [
      "Funny Got Data MIS Data Systems Business Analyst T-Shirt\n",
      "16.99\n",
      "4.3 out of 5\n",
      "19 ratings\n",
      "'Funny Got Data MIS Data Systems Business Analyst' is a funny pickup perfect for people interested in MIS and data systems who works in IT or data consulting! Any business analyst or consultant that works with big data will love it!\n"
     ]
    }
   ],
   "source": [
    "print(title)\n",
    "print(price)\n",
    "print(rating + ' out of 5')\n",
    "print(numberOfRatings)\n",
    "print(description)"
   ]
  },
  {
   "cell_type": "code",
   "execution_count": null,
   "id": "0f51b690",
   "metadata": {},
   "outputs": [],
   "source": [
    "today = datetime.date.today()"
   ]
  },
  {
   "cell_type": "code",
   "execution_count": 15,
   "id": "f237d2b1",
   "metadata": {},
   "outputs": [],
   "source": [
    "import csv\n",
    "\n",
    "header = ['Title', 'Price', 'Rating', 'Number of Ratings', 'Description', 'Date Collected']\n",
    "data = [title, price, rating, numberOfRatings, description, today]\n",
    "\n",
    "with open('AmazonWebScraperDataSet.csv', 'w', newline='', encoding='UTF8') as f:\n",
    "    writer = csv.writer(f)\n",
    "    writer.writerow(header)\n",
    "    writer.writerow(data)\n",
    "    "
   ]
  },
  {
   "cell_type": "code",
   "execution_count": 18,
   "id": "ac9e66ba",
   "metadata": {},
   "outputs": [],
   "source": [
    "with open('AmazonWebScraperDataSet.csv', 'a+', newline='', encoding='UTF8') as f:\n",
    "    writer = csv.writer(f)\n",
    "    writer.writerow(data)"
   ]
  },
  {
   "cell_type": "code",
   "execution_count": 19,
   "id": "255060ae",
   "metadata": {},
   "outputs": [],
   "source": [
    "def check_price():\n",
    "    url = 'https://www.amazon.com/Funny-Data-Systems-Business-Analyst/dp/B07FNW9FGJ/ref=sr_1_2?dib=eyJ2IjoiMSJ9.EkdWY-JPkdMVH0ehyai8WrEeGxUW23jZ4L14AX4t9y_fsbKDHG8hHbt70ELY4WHwvYu0WStxDCownUTObkN3M3keTD-iLAWV6XVF6svAZKl5ce8HHuo6Z4-bhekNDCepT05ZeVb6-yP0IjUY4WHfpO7iClXN36APWfNMF00aFmRxK7IRf_RFUt6NDVe1fLKOZSAEDc1Zuiypn7XvK4J8nSHyI20hBILpIPSaPFNpm0utvfaeZvyZm1WdblEa3ZSGGBGMiWkOML9Zg6FwgPZhDu1vSG9bDE0cqJ2CSCg2Bmg.RMfbhN47f0762lUejMr_cc_s3CzHIaKhQA8-xunD3wY&dib_tag=se&keywords=funny+got+data+mis+data+systems+t-shirt&qid=1713746794&sr=8-2'\n",
    "    headers = {\"User-Agent\": \"Mozilla/5.0 (Windows NT 10.0; Win64; x64) AppleWebKit/537.36 (KHTML, like Gecko) Chrome/123.0.0.0 Safari/537.36 Edg/123.0.0.0\", \"Accept-Encoding\":\"gzip, deflate\", \"Accept\":\"text/html,application/xhtml+xml,application/xml;q=0.9,*/*;q=0.8\", \"DNT\":\"1\",\"Connection\":\"close\", \"Upgrade-Insecure-Requests\":\"1\"}\n",
    "    page = requests.get(url, headers=headers)\n",
    "\n",
    "    soup1 = BeautifulSoup(page.content, \"html.parser\")\n",
    "    soup2 = BeautifulSoup(soup1.prettify(), 'html.parser')\n",
    "\n",
    "    title = soup2.find(id='productTitle').get_text()\n",
    "    price = soup2.find(class_='aok-offscreen').get_text()\n",
    "    rating = soup2.find(class_='a-size-base a-color-base').get_text()\n",
    "    numberOfRatings = soup2.find(id='acrCustomerReviewText').get_text()\n",
    "    description = soup2.find(id=\"productDescription\").get_text()\n",
    "    \n",
    "    price = price.strip()[1:]\n",
    "    title = title.strip()\n",
    "    rating = rating.strip()\n",
    "    numberOfRatings = numberOfRatings.strip()\n",
    "    description = description.strip()\n",
    "    \n",
    "    import datetime\n",
    "    today = datetime.date.today()\n",
    "    \n",
    "    import csv\n",
    "    header = ['Title', 'Price', 'Rating', 'Number of Ratings', 'Description', 'Date Collected']\n",
    "    data = [title, price, rating, numberOfRatings, description, today]\n",
    "    \n",
    "    with open('AmazonWebScraperDataSet.csv', 'a+', newline='', encoding='UTF8') as f:\n",
    "        writer = csv.writer(f)\n",
    "        writer.writerow(data)\n",
    "    "
   ]
  },
  {
   "cell_type": "code",
   "execution_count": null,
   "id": "f68adb86",
   "metadata": {},
   "outputs": [],
   "source": [
    "#Checks once a day; every 86400 secs\n",
    "\n",
    "while(True):\n",
    "    check_price()\n",
    "    time.sleep(86400)\n",
    "    "
   ]
  },
  {
   "cell_type": "code",
   "execution_count": null,
   "id": "30a6e0ad",
   "metadata": {},
   "outputs": [],
   "source": []
  }
 ],
 "metadata": {
  "kernelspec": {
   "display_name": "Python 3 (ipykernel)",
   "language": "python",
   "name": "python3"
  },
  "language_info": {
   "codemirror_mode": {
    "name": "ipython",
    "version": 3
   },
   "file_extension": ".py",
   "mimetype": "text/x-python",
   "name": "python",
   "nbconvert_exporter": "python",
   "pygments_lexer": "ipython3",
   "version": "3.11.7"
  }
 },
 "nbformat": 4,
 "nbformat_minor": 5
}
