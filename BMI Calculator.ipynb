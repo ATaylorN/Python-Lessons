{
 "cells": [
  {
   "cell_type": "markdown",
   "id": "d504560d",
   "metadata": {},
   "source": [
    "# BMI Calculator"
   ]
  },
  {
   "cell_type": "code",
   "execution_count": 1,
   "id": "b4565dc4",
   "metadata": {},
   "outputs": [],
   "source": [
    "#BMI = (weight in pounds x 703)/(height in inches x height in inches)"
   ]
  },
  {
   "cell_type": "code",
   "execution_count": null,
   "id": "996c85fd",
   "metadata": {},
   "outputs": [],
   "source": [
    "name = input(\"Enter your name: \")\n",
    "weight = int(input(\"Enter your weight in pounds: \"))\n",
    "height = int(input(\"Enter your height in inches: \"))\n",
    "BMI = (weight*703)/(height*height)\n",
    "print(BMI)\n",
    "\n",
    "if BMI>0:\n",
    "    if(BMI<18.5):\n",
    "        print(name + \", you are underweight.\")\n",
    "    elif (BMI<=24.9):\n",
    "        print(name + \", you are normal weight.\")\n",
    "    elif (BMI<=29.9):\n",
    "        print(name + \", you are overweight.\")\n",
    "    elif (BMI<=34.9):\n",
    "        print(name + \", you are obese.\")\n",
    "    elif (BMI<=39.9):\n",
    "        print(name + \", you are severely obese.\")\n",
    "    else:\n",
    "        print(name + \", you are morbidly obese.\")\n",
    "else:\n",
    "    print(\"Invalid input. Please try again!\")"
   ]
  },
  {
   "cell_type": "code",
   "execution_count": 16,
   "id": "bb9a5ccd",
   "metadata": {},
   "outputs": [],
   "source": [
    "#Under 18.5 -> Underwieght - Minimal\n",
    "#18.5-24.9 -> Normal weight - Minimal\n",
    "#25-29.9 -> Overweight - Increased\n",
    "#30-34.9 -> Obese - High\n",
    "#35-39.9 -> Severely Obese - Very High\n",
    "#40 and over -> Morbidly Obese - Extremely High"
   ]
  },
  {
   "cell_type": "code",
   "execution_count": null,
   "id": "e6b3f00b",
   "metadata": {},
   "outputs": [],
   "source": []
  }
 ],
 "metadata": {
  "kernelspec": {
   "display_name": "Python 3 (ipykernel)",
   "language": "python",
   "name": "python3"
  },
  "language_info": {
   "codemirror_mode": {
    "name": "ipython",
    "version": 3
   },
   "file_extension": ".py",
   "mimetype": "text/x-python",
   "name": "python",
   "nbconvert_exporter": "python",
   "pygments_lexer": "ipython3",
   "version": "3.11.7"
  }
 },
 "nbformat": 4,
 "nbformat_minor": 5
}
